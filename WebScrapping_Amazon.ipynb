{
  "nbformat": 4,
  "nbformat_minor": 0,
  "metadata": {
    "colab": {
      "provenance": []
    },
    "kernelspec": {
      "name": "python3",
      "display_name": "Python 3"
    },
    "language_info": {
      "name": "python"
    }
  },
  "cells": [
    {
      "cell_type": "code",
      "execution_count": 83,
      "metadata": {
        "id": "SpEs8RL60GXz",
        "colab": {
          "base_uri": "https://localhost:8080/"
        },
        "outputId": "a84698cc-6b10-4445-bd2f-2d3ff53c09c9"
      },
      "outputs": [
        {
          "output_type": "stream",
          "name": "stdout",
          "text": [
            "Looking in indexes: https://pypi.org/simple, https://us-python.pkg.dev/colab-wheels/public/simple/\n",
            "Requirement already satisfied: autoscraper in /usr/local/lib/python3.10/dist-packages (1.1.14)\n",
            "Requirement already satisfied: lxml in /usr/local/lib/python3.10/dist-packages (from autoscraper) (4.9.2)\n",
            "Requirement already satisfied: requests in /usr/local/lib/python3.10/dist-packages (from autoscraper) (2.27.1)\n",
            "Requirement already satisfied: bs4 in /usr/local/lib/python3.10/dist-packages (from autoscraper) (0.0.1)\n",
            "Requirement already satisfied: beautifulsoup4 in /usr/local/lib/python3.10/dist-packages (from bs4->autoscraper) (4.11.2)\n",
            "Requirement already satisfied: charset-normalizer~=2.0.0 in /usr/local/lib/python3.10/dist-packages (from requests->autoscraper) (2.0.12)\n",
            "Requirement already satisfied: certifi>=2017.4.17 in /usr/local/lib/python3.10/dist-packages (from requests->autoscraper) (2022.12.7)\n",
            "Requirement already satisfied: urllib3<1.27,>=1.21.1 in /usr/local/lib/python3.10/dist-packages (from requests->autoscraper) (1.26.15)\n",
            "Requirement already satisfied: idna<4,>=2.5 in /usr/local/lib/python3.10/dist-packages (from requests->autoscraper) (3.4)\n",
            "Requirement already satisfied: soupsieve>1.2 in /usr/local/lib/python3.10/dist-packages (from beautifulsoup4->bs4->autoscraper) (2.4.1)\n"
          ]
        }
      ],
      "source": [
        "!pip install autoscraper"
      ]
    },
    {
      "cell_type": "code",
      "source": [
        "from autoscraper import AutoScraper"
      ],
      "metadata": {
        "id": "qS1LI7TZ4W1j"
      },
      "execution_count": 94,
      "outputs": []
    },
    {
      "cell_type": "code",
      "source": [
        "amazon_url = \"https://www.amazon.in/iphone/s?k=iphone\"\n",
        "\n",
        "wanted_list = [\"Apple iPhone 14 (128 GB) - Blue\", \"₹67,999\", \"541\"]"
      ],
      "metadata": {
        "id": "Ni2Z5LSp4fYn"
      },
      "execution_count": 95,
      "outputs": []
    },
    {
      "cell_type": "code",
      "source": [
        "scraper = AutoScraper()\n",
        "result = scraper.build(amazon_url, wanted_list)\n",
        "print (result)"
      ],
      "metadata": {
        "colab": {
          "base_uri": "https://localhost:8080/"
        },
        "id": "bGycUIh04hXH",
        "outputId": "cba8c0e9-3492-4504-b43b-47822830fb7f"
      },
      "execution_count": 96,
      "outputs": [
        {
          "output_type": "stream",
          "name": "stdout",
          "text": [
            "['Apple iPhone 14 (128 GB) - Midnight', 'Apple iPhone 14 Plus (128 GB) - Midnight', 'Apple iPhone 14 (128 GB) - Yellow', 'Apple iPhone 14 (128 GB) - Blue', 'Apple iPhone 14 (256 GB) - Purple', 'Apple iPhone 14 (128 GB) - Purple', 'Apple iPhone 14 (128 GB) - (Product) RED', 'Apple iPhone 14 Pro (128 GB) - Deep Purple', 'Apple iPhone 14 Plus (256 GB) - Blue', 'Apple iPhone 14 Pro Max (128 GB) - Space Black', 'Apple iPhone 14 Pro Max (256 GB) - Gold', 'Apple iPhone 14 Pro (256 GB) - Gold', 'Apple iPhone 14 Plus (128 GB) - Purple', 'Apple iPhone 14 Plus (128 GB) - Blue', 'Apple iPhone 14 Plus (256 GB) - (Product) RED', 'Apple iPhone 14 Plus (128 GB) - Starlight', 'Apple iPhone 14 Pro (256 GB) - Space Black', 'Apple iPhone 14 Pro (128 GB) - Gold', 'Winble Back Cover for iPhone 14 Pro Case | Metal Camera Guard Acrylic Clear Protective Back | Back Cover Case for iPhone 14 Pro (Deep Purple)', 'Apple iPhone 14 Pro (128 GB) - Silver', 'Apple iPhone 14 (128 GB) - Starlight', 'Winble Back Cover for iPhone 14 Pro Case | Metal Camera Guard Acrylic Clear Protective Back | Back Cover Case for iPhone 1...', '₹66,999', '₹75,999', '₹69,999', '₹67,999', '₹79,999', '₹1,29,900', '₹86,999', '₹1,27,999', '₹1,37,999', '₹1,39,900', '₹1,17,999', '₹499', '541', '402', '102', '423', '473', '(9% off)', '47', '(50% off)', '(16% off)', '(15% off)']\n"
          ]
        }
      ]
    },
    {
      "cell_type": "code",
      "source": [
        "scraper.get_result_similar(amazon_url, grouped = True)"
      ],
      "metadata": {
        "colab": {
          "base_uri": "https://localhost:8080/"
        },
        "id": "eu1p5D1-4jbx",
        "outputId": "b585fa71-c45b-457d-a35e-2cd06eb30c62"
      },
      "execution_count": 101,
      "outputs": [
        {
          "output_type": "execute_result",
          "data": {
            "text/plain": [
              "{'rule_k55q': ['Apple iPhone 14 (128 GB) - Midnight',\n",
              "  'Apple iPhone 14 Plus (128 GB) - Midnight',\n",
              "  'Apple iPhone 14 (128 GB) - Yellow',\n",
              "  'Apple iPhone 14 (128 GB) - Blue',\n",
              "  'Apple iPhone 14 (256 GB) - Purple',\n",
              "  'Apple iPhone 14 (128 GB) - Purple',\n",
              "  'Apple iPhone 14 (128 GB) - (Product) RED',\n",
              "  'Apple iPhone 14 Pro (128 GB) - Deep Purple',\n",
              "  'Apple iPhone 14 Plus (256 GB) - Blue',\n",
              "  'Apple iPhone 14 Pro Max (128 GB) - Space Black',\n",
              "  'Apple iPhone 14 Pro Max (256 GB) - Gold',\n",
              "  'Apple iPhone 14 Pro (256 GB) - Gold',\n",
              "  'Apple iPhone 14 Plus (128 GB) - Purple',\n",
              "  'Apple iPhone 14 Plus (128 GB) - Blue',\n",
              "  'Apple iPhone 14 Plus (256 GB) - (Product) RED',\n",
              "  'Apple iPhone 14 Plus (128 GB) - Starlight'],\n",
              " 'rule_tu04': ['Apple iPhone 14 (128 GB) - Midnight',\n",
              "  'Apple iPhone 14 Plus (128 GB) - Midnight',\n",
              "  'Apple iPhone 14 (128 GB) - Yellow',\n",
              "  'Apple iPhone 14 (128 GB) - Blue',\n",
              "  'Apple iPhone 14 (256 GB) - Purple',\n",
              "  'Apple iPhone 14 (128 GB) - Purple',\n",
              "  'Apple iPhone 14 (128 GB) - (Product) RED',\n",
              "  'Apple iPhone 14 Pro (128 GB) - Deep Purple',\n",
              "  'Apple iPhone 14 Plus (256 GB) - Blue',\n",
              "  'Apple iPhone 14 Pro Max (128 GB) - Space Black',\n",
              "  'Apple iPhone 14 Pro Max (256 GB) - Gold',\n",
              "  'Apple iPhone 14 Pro (256 GB) - Gold',\n",
              "  'Apple iPhone 14 Plus (128 GB) - Purple',\n",
              "  'Apple iPhone 14 Plus (128 GB) - Blue',\n",
              "  'Apple iPhone 14 Plus (256 GB) - (Product) RED',\n",
              "  'Apple iPhone 14 Plus (128 GB) - Starlight'],\n",
              " 'rule_s1ze': ['Apple iPhone 14 Pro (256 GB) - Space Black',\n",
              "  'Apple iPhone 14 Pro (128 GB) - Gold',\n",
              "  'Winble Back Cover for iPhone 14 Pro Case | Metal Camera Guard Acrylic Clear Protective Back | Back Cover Case for iPhone 14 Pro (Deep Purple)',\n",
              "  'Apple iPhone 14 Pro (128 GB) - Silver',\n",
              "  'Apple iPhone 14 (128 GB) - Midnight',\n",
              "  'Apple iPhone 14 (128 GB) - Starlight',\n",
              "  'Apple iPhone 14 (128 GB) - Blue',\n",
              "  'Apple iPhone 14 (128 GB) - Purple'],\n",
              " 'rule_uz34': ['Apple iPhone 14 Pro (256 GB) - Space Black',\n",
              "  'Apple iPhone 14 Pro (128 GB) - Gold',\n",
              "  'Winble Back Cover for iPhone 14 Pro Case | Metal Camera Guard Acrylic Clear Protective Back | Back Cover Case for iPhone 1...',\n",
              "  'Apple iPhone 14 Pro (128 GB) - Silver',\n",
              "  'Apple iPhone 14 (128 GB) - Midnight',\n",
              "  'Apple iPhone 14 (128 GB) - Starlight',\n",
              "  'Apple iPhone 14 (128 GB) - Blue',\n",
              "  'Apple iPhone 14 (128 GB) - Purple'],\n",
              " 'rule_drv3': ['₹66,999',\n",
              "  '₹75,999',\n",
              "  '₹69,999',\n",
              "  '₹67,999',\n",
              "  '₹79,999',\n",
              "  '₹67,999',\n",
              "  '₹67,999',\n",
              "  '₹1,29,900',\n",
              "  '₹86,999',\n",
              "  '₹1,27,999',\n",
              "  '₹1,37,999',\n",
              "  '₹1,39,900',\n",
              "  '₹75,999',\n",
              "  '₹75,999',\n",
              "  '₹86,999',\n",
              "  '₹75,999'],\n",
              " 'rule_yqlv': ['₹66,999',\n",
              "  '₹75,999',\n",
              "  '₹69,999',\n",
              "  '₹67,999',\n",
              "  '₹79,999',\n",
              "  '₹67,999',\n",
              "  '₹67,999',\n",
              "  '₹1,29,900',\n",
              "  '₹86,999',\n",
              "  '₹1,27,999',\n",
              "  '₹1,37,999',\n",
              "  '₹1,39,900',\n",
              "  '₹75,999',\n",
              "  '₹75,999',\n",
              "  '₹86,999',\n",
              "  '₹75,999'],\n",
              " 'rule_hzfu': ['₹66,999',\n",
              "  '₹75,999',\n",
              "  '₹69,999',\n",
              "  '₹67,999',\n",
              "  '₹79,999',\n",
              "  '₹67,999',\n",
              "  '₹67,999',\n",
              "  '₹1,29,900',\n",
              "  '₹86,999',\n",
              "  '₹1,27,999',\n",
              "  '₹1,37,999',\n",
              "  '₹1,39,900',\n",
              "  '₹75,999',\n",
              "  '₹75,999',\n",
              "  '₹86,999',\n",
              "  '₹75,999'],\n",
              " 'rule_zxzz': ['₹66,999',\n",
              "  '₹75,999',\n",
              "  '₹69,999',\n",
              "  '₹67,999',\n",
              "  '₹79,999',\n",
              "  '₹67,999',\n",
              "  '₹67,999',\n",
              "  '₹1,29,900',\n",
              "  '₹86,999',\n",
              "  '₹1,27,999',\n",
              "  '₹1,37,999',\n",
              "  '₹1,39,900',\n",
              "  '₹75,999',\n",
              "  '₹75,999',\n",
              "  '₹86,999',\n",
              "  '₹75,999'],\n",
              " 'rule_1m1m': ['₹66,999',\n",
              "  '₹75,999',\n",
              "  '₹69,999',\n",
              "  '₹67,999',\n",
              "  '₹79,999',\n",
              "  '₹67,999',\n",
              "  '₹67,999',\n",
              "  '₹1,29,900',\n",
              "  '₹86,999',\n",
              "  '₹1,27,999',\n",
              "  '₹1,37,999',\n",
              "  '₹1,39,900',\n",
              "  '₹75,999',\n",
              "  '₹75,999',\n",
              "  '₹86,999',\n",
              "  '₹75,999'],\n",
              " 'rule_k9a3': ['₹66,999',\n",
              "  '₹75,999',\n",
              "  '₹69,999',\n",
              "  '₹67,999',\n",
              "  '₹79,999',\n",
              "  '₹67,999',\n",
              "  '₹67,999',\n",
              "  '₹1,29,900',\n",
              "  '₹86,999',\n",
              "  '₹1,27,999',\n",
              "  '₹1,37,999',\n",
              "  '₹1,39,900',\n",
              "  '₹75,999',\n",
              "  '₹75,999',\n",
              "  '₹86,999',\n",
              "  '₹75,999'],\n",
              " 'rule_9g1f': ['₹1,39,900',\n",
              "  '₹1,17,999',\n",
              "  '₹499',\n",
              "  '₹1,17,999',\n",
              "  '₹66,999',\n",
              "  '₹67,999',\n",
              "  '₹67,999',\n",
              "  '₹67,999'],\n",
              " 'rule_0733': ['₹1,39,900',\n",
              "  '₹1,17,999',\n",
              "  '₹499',\n",
              "  '₹1,17,999',\n",
              "  '₹66,999',\n",
              "  '₹67,999',\n",
              "  '₹67,999',\n",
              "  '₹67,999'],\n",
              " 'rule_yk9d': ['₹1,39,900',\n",
              "  '₹1,17,999',\n",
              "  '₹499',\n",
              "  '₹1,17,999',\n",
              "  '₹66,999',\n",
              "  '₹67,999',\n",
              "  '₹67,999',\n",
              "  '₹67,999'],\n",
              " 'rule_vrbt': ['₹1,39,900',\n",
              "  '₹1,17,999',\n",
              "  '₹499',\n",
              "  '₹1,17,999',\n",
              "  '₹66,999',\n",
              "  '₹67,999',\n",
              "  '₹67,999',\n",
              "  '₹67,999'],\n",
              " 'rule_xf26': ['₹1,39,900',\n",
              "  '₹1,17,999',\n",
              "  '₹499',\n",
              "  '₹1,17,999',\n",
              "  '₹66,999',\n",
              "  '₹67,999',\n",
              "  '₹67,999',\n",
              "  '₹67,999'],\n",
              " 'rule_q16x': ['₹1,39,900',\n",
              "  '₹1,17,999',\n",
              "  '₹499',\n",
              "  '₹1,17,999',\n",
              "  '₹66,999',\n",
              "  '₹67,999',\n",
              "  '₹67,999',\n",
              "  '₹67,999'],\n",
              " 'rule_nhyv': ['541',\n",
              "  '402',\n",
              "  '541',\n",
              "  '541',\n",
              "  '541',\n",
              "  '541',\n",
              "  '102',\n",
              "  '423',\n",
              "  '402',\n",
              "  '473',\n",
              "  '473',\n",
              "  '423',\n",
              "  '402',\n",
              "  '402',\n",
              "  '402',\n",
              "  '402'],\n",
              " 'rule_kbso': ['541',\n",
              "  '402',\n",
              "  '541',\n",
              "  '541',\n",
              "  '541',\n",
              "  '541',\n",
              "  '102',\n",
              "  '423',\n",
              "  '402',\n",
              "  '473',\n",
              "  '473',\n",
              "  '423',\n",
              "  '402',\n",
              "  '402',\n",
              "  '402',\n",
              "  '402'],\n",
              " 'rule_vc8q': ['541',\n",
              "  '402',\n",
              "  '541',\n",
              "  '541',\n",
              "  '541',\n",
              "  '541',\n",
              "  '102',\n",
              "  '423',\n",
              "  '402',\n",
              "  '473',\n",
              "  '473',\n",
              "  '423',\n",
              "  '402',\n",
              "  '402',\n",
              "  '402',\n",
              "  '402'],\n",
              " 'rule_oi6u': ['423',\n",
              "  '423',\n",
              "  '(9% off)',\n",
              "  '47',\n",
              "  '(50% off)',\n",
              "  '423',\n",
              "  '(9% off)',\n",
              "  '541',\n",
              "  '(16% off)',\n",
              "  '541',\n",
              "  '(15% off)',\n",
              "  '541',\n",
              "  '(15% off)',\n",
              "  '541',\n",
              "  '(15% off)'],\n",
              " 'rule_oq9x': ['423',\n",
              "  '423',\n",
              "  '(9% off)',\n",
              "  '47',\n",
              "  '(50% off)',\n",
              "  '423',\n",
              "  '(9% off)',\n",
              "  '541',\n",
              "  '(16% off)',\n",
              "  '541',\n",
              "  '(15% off)',\n",
              "  '541',\n",
              "  '(15% off)',\n",
              "  '541',\n",
              "  '(15% off)'],\n",
              " 'rule_otq1': ['423',\n",
              "  '423',\n",
              "  '(9% off)',\n",
              "  '47',\n",
              "  '(50% off)',\n",
              "  '423',\n",
              "  '(9% off)',\n",
              "  '541',\n",
              "  '(16% off)',\n",
              "  '541',\n",
              "  '(15% off)',\n",
              "  '541',\n",
              "  '(15% off)',\n",
              "  '541',\n",
              "  '(15% off)'],\n",
              " 'rule_de6m': ['423',\n",
              "  '423',\n",
              "  '(9% off)',\n",
              "  '47',\n",
              "  '(50% off)',\n",
              "  '423',\n",
              "  '(9% off)',\n",
              "  '541',\n",
              "  '(16% off)',\n",
              "  '541',\n",
              "  '(15% off)',\n",
              "  '541',\n",
              "  '(15% off)',\n",
              "  '541',\n",
              "  '(15% off)'],\n",
              " 'rule_3lcu': ['541',\n",
              "  '402',\n",
              "  '541',\n",
              "  '541',\n",
              "  '541',\n",
              "  '541',\n",
              "  '102',\n",
              "  '423',\n",
              "  '402',\n",
              "  '473',\n",
              "  '473',\n",
              "  '423',\n",
              "  '402',\n",
              "  '402',\n",
              "  '402',\n",
              "  '402'],\n",
              " 'rule_h21d': ['541',\n",
              "  '402',\n",
              "  '541',\n",
              "  '541',\n",
              "  '541',\n",
              "  '541',\n",
              "  '102',\n",
              "  '423',\n",
              "  '402',\n",
              "  '473',\n",
              "  '473',\n",
              "  '423',\n",
              "  '402',\n",
              "  '402',\n",
              "  '402',\n",
              "  '402']}"
            ]
          },
          "metadata": {},
          "execution_count": 101
        }
      ]
    },
    {
      "cell_type": "code",
      "source": [
        "scraper.set_rule_aliases({'rule_k55q' : 'Title', 'rule_drv3' : 'Price', 'rule_vc8q' : 'Review'})\n",
        "scraper.keep_rules(['rule_k55q','rule_drv3', 'rule_vc8q'])\n",
        "scraper.save('amazon_search')"
      ],
      "metadata": {
        "id": "Jr_S4I5n4oSs"
      },
      "execution_count": 102,
      "outputs": []
    },
    {
      "cell_type": "code",
      "source": [
        "results = scraper.get_result_similar('https://www.amazon.in/mi-mobile/s?k=mi+mobile', group_by_alias=True)\n",
        "results['Title']"
      ],
      "metadata": {
        "colab": {
          "base_uri": "https://localhost:8080/"
        },
        "id": "qkIORGlR5WCS",
        "outputId": "4c607a63-1eac-4488-dccc-10f410e87f85"
      },
      "execution_count": 103,
      "outputs": [
        {
          "output_type": "execute_result",
          "data": {
            "text/plain": [
              "['Redmi 10A (Slate Grey, 4GB RAM, 64GB Storage) | 2 Ghz Octa Core Helio G25 | 5000 mAh Battery | Finger Print Sensor | Upto 5GB RAM with RAM Booster',\n",
              " 'Redmi Note 12 5G Mystique Blue 6GB RAM 128GB ROM | 1st Phone with 120Hz Super AMOLED and Snapdragon® 4 Gen 1 | 48MP AI Triple Camera',\n",
              " 'Redmi 12C (Royal Blue, 4GB RAM, 64GB Storage) | High Performance Mediatek Helio G85 | Big 17cm(6.71) HD+ Display with 5000mAh(typ) Battery with 10W Charger in-Box',\n",
              " 'Redmi A1 (Black, 2GB RAM, 32GB Storage) | Segment Best AI Dual Cam | 5000mAh Battery | Leather Texture Design | Android 12',\n",
              " 'Redmi Note 11 (Space Black, 4GB RAM, 64GB Storage)|90Hz FHD+ AMOLED Display | Qualcomm® SnapdragonTM 680-6nm | 33W Charger Included',\n",
              " 'Redmi 11 Prime 5G (Chrome Silver, 4GB RAM 64GB ROM) | Prime Design | MTK Dimensity 700 | 50 MP Dual Cam | 5000mAh | 7 Band 5G',\n",
              " 'Redmi 11 Prime 5G (Thunder Black, 4GB RAM, 64GB Storage) | Prime Design | MTK Dimensity 700 | 50 MP Dual Cam | 5000mAh | 7 Band 5G',\n",
              " 'Redmi 11 Prime (Flashy Black, 6GB RAM, 128GB Storage) | Prime Design | High Performance Helio G99 | 50 MP AI Triple Cam | 5000 mAh | 22.5W',\n",
              " 'Redmi Note 12 5G Mystique Blue 4GB RAM 128GB ROM | 1st Phone with 120Hz Super AMOLED and Snapdragon® 4 Gen 1 | 48MP AI Triple Camera',\n",
              " 'Redmi A1 (Light Green, 2GB RAM 32GB ROM) | Segment Best AI Dual Cam | 5000mAh Battery | Leather Texture Design | Android 12',\n",
              " 'Redmi 9A Sport (Carbon Black, 2GB RAM, 32GB Storage) | 2GHz Octa-core Helio G25 Processor | 5000 mAh Battery',\n",
              " 'MI Poco M2 (Brick Red, 6GB RAM, 128GB Storage)',\n",
              " 'Redmi 10 Power (Power Black, 8GB RAM, 128GB Storage)',\n",
              " 'Redmi 11 Prime (Playful Green, 4GB RAM, 64GB Storage) | Prime Design | High Performance Helio G99 | 50 MP AI Triple Cam | 5000 mAh | 22.5W',\n",
              " 'Mi 11X Cosmic Black 6GB RAM 128GB ROM Storage 5G | SD 870 | DisplayMate A+ rated 120Hz E4 AMOLED | 48MP Sony sensor',\n",
              " 'MI 10T 5G Cosmic Black, 8GB RAM, 128GB Storage - |Additional Exchange/No Cost EMI Offers']"
            ]
          },
          "metadata": {},
          "execution_count": 103
        }
      ]
    },
    {
      "cell_type": "code",
      "source": [
        "results['Price']"
      ],
      "metadata": {
        "colab": {
          "base_uri": "https://localhost:8080/"
        },
        "id": "5ySJvC8i8gdi",
        "outputId": "264a4b39-ea6c-4ab0-d9e1-3447d1992024"
      },
      "execution_count": 104,
      "outputs": [
        {
          "output_type": "execute_result",
          "data": {
            "text/plain": [
              "['₹8,599',\n",
              " '₹11,999',\n",
              " '₹19,999',\n",
              " '₹21,999',\n",
              " '₹8,999',\n",
              " '₹13,999',\n",
              " '₹5,699',\n",
              " '₹8,999',\n",
              " '₹12,999',\n",
              " '₹17,999',\n",
              " '₹13,999',\n",
              " '₹15,999',\n",
              " '₹13,999',\n",
              " '₹15,999',\n",
              " '₹12,999',\n",
              " '₹16,999',\n",
              " '₹17,999',\n",
              " '₹19,999',\n",
              " '₹5,699',\n",
              " '₹8,999',\n",
              " '₹6,499',\n",
              " '₹7,999',\n",
              " '₹10,999',\n",
              " '₹21,999',\n",
              " '₹12,499',\n",
              " '₹18,999',\n",
              " '₹10,999',\n",
              " '₹14,999',\n",
              " '₹23,499',\n",
              " '₹33,999',\n",
              " '₹24,999',\n",
              " '₹42,999']"
            ]
          },
          "metadata": {},
          "execution_count": 104
        }
      ]
    },
    {
      "cell_type": "code",
      "source": [
        "results['Review']"
      ],
      "metadata": {
        "colab": {
          "base_uri": "https://localhost:8080/"
        },
        "id": "N1yAlOIG-VyQ",
        "outputId": "1a6fb65a-3723-4dad-cb61-22abb8cc2077"
      },
      "execution_count": 106,
      "outputs": [
        {
          "output_type": "execute_result",
          "data": {
            "text/plain": [
              "['17,634',\n",
              " '3,704',\n",
              " '310',\n",
              " '14,233',\n",
              " '55,995',\n",
              " '4,841',\n",
              " '4,841',\n",
              " '419',\n",
              " '3,704',\n",
              " '14,233',\n",
              " '322,860',\n",
              " '45',\n",
              " '2,051',\n",
              " '419',\n",
              " '27,940',\n",
              " '1,348']"
            ]
          },
          "metadata": {},
          "execution_count": 106
        }
      ]
    },
    {
      "cell_type": "code",
      "source": [],
      "metadata": {
        "id": "qUq51aOY-Yle"
      },
      "execution_count": null,
      "outputs": []
    }
  ]
}